{
 "cells": [
  {
   "cell_type": "code",
   "execution_count": 7,
   "id": "c8a4bfe5",
   "metadata": {},
   "outputs": [],
   "source": [
    "import cv2 as cv\n",
    "import time\n",
    "import numpy as np\n",
    "\n",
    "def main():\n",
    "    cap = cv.VideoCapture(0)\n",
    "#     time.sleep(3)\n",
    "    count = 0\n",
    "    background = 0\n",
    "    for i in range(60):\n",
    "        ret, background = cap.read()\n",
    "    background = np.flip(background, 1)\n",
    "    \n",
    "    while (cap.isOpened()):\n",
    "        ret, image = cap.read()\n",
    "        if not ret:\n",
    "            break\n",
    "        count += 1\n",
    "        img = np.flip(image, 1)\n",
    "        hsv_img = cv.cvtColor(img, cv.COLOR_BGR2HSV)\n",
    "        \n",
    "        lower_red = np.array([0, 120, 50])\n",
    "        upper_red = np.array([10, 255, 255])\n",
    "        mask1 = cv.inRange(hsv_img, lower_red, upper_red)\n",
    "        \n",
    "        lower_red = np.array([170, 120, 70])\n",
    "        upper_red = np.array([180, 255, 255])\n",
    "        mask2 = cv.inRange(hsv_img, lower_red, upper_red)\n",
    "        \n",
    "        mask = mask1 + mask2\n",
    "        \n",
    "        mask = cv.morphologyEx(mask, cv.MORPH_OPEN, np.ones((3, 3), np.uint8))\n",
    "        mask = cv.morphologyEx(mask, cv.MORPH_DILATE, np.ones((3, 3), np.uint8))\n",
    "        \n",
    "        mask_not = cv.bitwise_not(mask)\n",
    "        \n",
    "        result_not_cloak = cv.bitwise_and(img, img, mask=mask_not)\n",
    "        result_cloak = cv.bitwise_and(background, background, mask=mask)\n",
    "        \n",
    "        result = cv.addWeighted(result_not_cloak, 1, result_cloak, 1, 0)\n",
    "        cv.imshow(\"magic\", result)\n",
    "#         cv.imshow(\"not cloak\", result_not_cloak)\n",
    "#         cv.imshow(\"cloak\", result_cloak)\n",
    "        k = cv.waitKey(10)\n",
    "        if k == 27:\n",
    "            break\n",
    "    cap.release()\n",
    "    cv.destroyAllWindows()\n",
    "    \n",
    "if __name__ == \"__main__\":\n",
    "    main()"
   ]
  },
  {
   "cell_type": "code",
   "execution_count": null,
   "id": "e6cb092b",
   "metadata": {},
   "outputs": [],
   "source": []
  },
  {
   "cell_type": "code",
   "execution_count": null,
   "id": "4bc40224",
   "metadata": {},
   "outputs": [],
   "source": []
  }
 ],
 "metadata": {
  "kernelspec": {
   "display_name": "Python 3",
   "language": "python",
   "name": "python3"
  },
  "language_info": {
   "codemirror_mode": {
    "name": "ipython",
    "version": 3
   },
   "file_extension": ".py",
   "mimetype": "text/x-python",
   "name": "python",
   "nbconvert_exporter": "python",
   "pygments_lexer": "ipython3",
   "version": "3.8.3"
  }
 },
 "nbformat": 4,
 "nbformat_minor": 5
}
